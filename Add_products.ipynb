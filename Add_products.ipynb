{
  "nbformat": 4,
  "nbformat_minor": 0,
  "metadata": {
    "colab": {
      "name": "Add products.ipynb",
      "provenance": []
    },
    "kernelspec": {
      "name": "python3",
      "display_name": "Python 3"
    },
    "language_info": {
      "name": "python"
    }
  },
  "cells": [
    {
      "cell_type": "code",
      "metadata": {
        "id": "zCbWlbdweHSa"
      },
      "source": [
        "import json\n",
        "fd=open(\"record.json\",'r')\n",
        "r=fd.read()\n",
        "fd.close()"
      ],
      "execution_count": 4,
      "outputs": []
    },
    {
      "cell_type": "code",
      "metadata": {
        "id": "G11GoNB3grLA"
      },
      "source": [
        "record=json.loads(r)\n"
      ],
      "execution_count": 5,
      "outputs": []
    },
    {
      "cell_type": "code",
      "metadata": {
        "colab": {
          "base_uri": "https://localhost:8080/"
        },
        "id": "ZBu6shQ_hMFo",
        "outputId": "870811b7-e6a8-49b3-9a09-f58e2f51ee48"
      },
      "source": [
        "record"
      ],
      "execution_count": 6,
      "outputs": [
        {
          "output_type": "execute_result",
          "data": {
            "text/plain": [
              "{'1001': {'name': 'Choco Cake', 'pr': 100, 'qn': 34},\n",
              " '1002': {'name': 'Milk Cake', 'pr': 800, 'qn': 100},\n",
              " '1003': {'name': 'Drink', 'pr': 85, 'qn': 100},\n",
              " '1004': {'name': 'Candy', 'pr': 5, 'qn': 1000},\n",
              " '1005': {'name': 'Pen', 'pr': 20, 'qn': 100},\n",
              " '1006': {'name': 'Phone', 'pr': 50000, 'qn': 10},\n",
              " '1007': {'name': 'Mic', 'pr': 1500, 'qn': 0},\n",
              " '1008': {'name': 'Case', 'pr': 599, 'qn': 5},\n",
              " '1009': {'name': 'Keyboard', 'pr': 1999, 'qn': 10}}"
            ]
          },
          "metadata": {},
          "execution_count": 6
        }
      ]
    },
    {
      "cell_type": "code",
      "metadata": {
        "colab": {
          "base_uri": "https://localhost:8080/",
          "height": 86
        },
        "id": "lYHrZq_chj2p",
        "outputId": "4e043136-0be5-4f46-dadc-5f0370546c8a"
      },
      "source": [
        "r"
      ],
      "execution_count": 7,
      "outputs": [
        {
          "output_type": "execute_result",
          "data": {
            "application/vnd.google.colaboratory.intrinsic+json": {
              "type": "string"
            },
            "text/plain": [
              "'{\"1001\": {\"name\": \"Choco Cake\", \"qn\": 34, \"pr\": 100}, \"1002\": {\"name\": \"Milk Cake\", \"pr\": 800, \"qn\": 100}, \"1003\": {\"name\": \"Drink\", \"pr\": 85, \"qn\": 100}, \"1004\": {\"name\": \"Candy\", \"pr\": 5, \"qn\": 1000}, \"1005\": {\"name\": \"Pen\", \"pr\": 20, \"qn\": 100}, \"1006\": {\"name\": \"Phone\", \"pr\": 50000, \"qn\": 10}, \"1007\": {\"name\": \"Mic\", \"pr\": 1500, \"qn\": 0}, \"1008\": {\"name\": \"Case\", \"pr\": 599, \"qn\": 5}, \"1009\": {\"name\": \"Keyboard\", \"pr\": 1999, \"qn\": 10}}'"
            ]
          },
          "metadata": {},
          "execution_count": 7
        }
      ]
    },
    {
      "cell_type": "code",
      "metadata": {
        "colab": {
          "base_uri": "https://localhost:8080/"
        },
        "id": "bmSzWULHhmcs",
        "outputId": "a1c238f6-1c68-4c3b-8320-80cb3247fe7b"
      },
      "source": [
        "prod_id=str(input(\"Enter the product id:\"))\n",
        "name=str(input(\"Enter the product name:\"))\n",
        "pr=int(input(\"Enter the price\"))\n",
        "qn=int(input(\"Enetr the quantity\"))"
      ],
      "execution_count": 9,
      "outputs": [
        {
          "name": "stdout",
          "output_type": "stream",
          "text": [
            "Enter the product id:1006\n",
            "Enter the product name:Cake\n",
            "Enter the price200\n",
            "Enetr the quantity10\n"
          ]
        }
      ]
    },
    {
      "cell_type": "code",
      "metadata": {
        "colab": {
          "base_uri": "https://localhost:8080/"
        },
        "id": "5XOIr7Rsludz",
        "outputId": "dd4aa8f6-502f-4b72-c285-e341d441ec62"
      },
      "source": [
        "prod_id=str(input(\"Enter the product id:\"))\n",
        "name=str(input(\"Enter the product name:\"))\n",
        "pr=int(input(\"Enter the price\"))\n",
        "qn=int(input(\"Enter the quantity\"))\n",
        "\n",
        "record[prod_id]={'name':name,'pr':pr,'qn':qn}\n",
        "js=json.dumps(record)\n",
        "\n",
        "fd=open(\"record.json\",'w')\n",
        "fd.write(js)\n",
        "fd.close()\n",
        "\n"
      ],
      "execution_count": 15,
      "outputs": [
        {
          "name": "stdout",
          "output_type": "stream",
          "text": [
            "Enter the product id:1011\n",
            "Enter the product name:craft\n",
            "Enter the price280\n",
            "Enter the quantity4\n"
          ]
        }
      ]
    },
    {
      "cell_type": "code",
      "metadata": {
        "colab": {
          "base_uri": "https://localhost:8080/"
        },
        "id": "4vaztZiRn7NZ",
        "outputId": "67537ffc-7cda-4f85-c6e4-d4a95dc0a533"
      },
      "source": [
        "record"
      ],
      "execution_count": 16,
      "outputs": [
        {
          "output_type": "execute_result",
          "data": {
            "text/plain": [
              "{'1001': {'name': 'Choco Cake', 'pr': 100, 'qn': 34},\n",
              " '1002': {'name': 'Milk Cake', 'pr': 800, 'qn': 100},\n",
              " '1003': {'name': 'Drink', 'pr': 85, 'qn': 100},\n",
              " '1004': {'name': 'Candy', 'pr': 5, 'qn': 1000},\n",
              " '1005': {'name': 'Pen', 'pr': 20, 'qn': 100},\n",
              " '1006': {'name': 'Cake', 'pr': 200, 'qn': 10},\n",
              " '1007': {'name': 'Mic', 'pr': 1500, 'qn': 0},\n",
              " '1008': {'name': 'Case', 'pr': 599, 'qn': 5},\n",
              " '1009': {'name': 'Keyboard', 'pr': 1999, 'qn': 10},\n",
              " '1010': {'name': 'Biscuit', 'pr': 25, 'qn': 20},\n",
              " '1011': {'name': 'craft', 'pr': 280, 'qn': 4}}"
            ]
          },
          "metadata": {},
          "execution_count": 16
        }
      ]
    },
    {
      "cell_type": "code",
      "metadata": {
        "colab": {
          "base_uri": "https://localhost:8080/"
        },
        "id": "kjyKwmRBki_J",
        "outputId": "6b46da0a-293c-465d-fbde-6a891ad9569a"
      },
      "source": [
        "{prod_id: {'name':name,'pr':pr,'qn':qn}}"
      ],
      "execution_count": 13,
      "outputs": [
        {
          "output_type": "execute_result",
          "data": {
            "text/plain": [
              "{'1010': {'name': 'Biscuit', 'pr': 25, 'qn': 20}}"
            ]
          },
          "metadata": {},
          "execution_count": 13
        }
      ]
    },
    {
      "cell_type": "code",
      "metadata": {
        "colab": {
          "base_uri": "https://localhost:8080/"
        },
        "id": "3rD_75QolSbc",
        "outputId": "6077a925-cb2a-4de3-e9f3-8c123f64572c"
      },
      "source": [
        "record[prod_id]={'name':name,'pr':pr,'qn':qn}\n",
        "record"
      ],
      "execution_count": 14,
      "outputs": [
        {
          "output_type": "execute_result",
          "data": {
            "text/plain": [
              "{'1001': {'name': 'Choco Cake', 'pr': 100, 'qn': 34},\n",
              " '1002': {'name': 'Milk Cake', 'pr': 800, 'qn': 100},\n",
              " '1003': {'name': 'Drink', 'pr': 85, 'qn': 100},\n",
              " '1004': {'name': 'Candy', 'pr': 5, 'qn': 1000},\n",
              " '1005': {'name': 'Pen', 'pr': 20, 'qn': 100},\n",
              " '1006': {'name': 'Cake', 'pr': 200, 'qn': 10},\n",
              " '1007': {'name': 'Mic', 'pr': 1500, 'qn': 0},\n",
              " '1008': {'name': 'Case', 'pr': 599, 'qn': 5},\n",
              " '1009': {'name': 'Keyboard', 'pr': 1999, 'qn': 10},\n",
              " '1010': {'name': 'Biscuit', 'pr': 25, 'qn': 20}}"
            ]
          },
          "metadata": {},
          "execution_count": 14
        }
      ]
    },
    {
      "cell_type": "code",
      "metadata": {
        "id": "bRVRDh8VoAyg"
      },
      "source": [
        ""
      ],
      "execution_count": null,
      "outputs": []
    },
    {
      "cell_type": "markdown",
      "metadata": {
        "id": "VReOuhObeh2v"
      },
      "source": [
        "# New Section"
      ]
    }
  ]
}