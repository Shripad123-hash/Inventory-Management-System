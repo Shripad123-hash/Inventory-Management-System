{
  "nbformat": 4,
  "nbformat_minor": 0,
  "metadata": {
    "colab": {
      "name": "Purchase.ipynb",
      "provenance": []
    },
    "kernelspec": {
      "name": "python3",
      "display_name": "Python 3"
    },
    "language_info": {
      "name": "python"
    }
  },
  "cells": [
    {
      "cell_type": "code",
      "metadata": {
        "id": "RbScfYZDGofU"
      },
      "source": [
        "import json\n",
        "\n",
        "fd=open(\"record.json\",'r')\n",
        "r=fd.read()\n",
        "fd.close()\n",
        "records=json.loads(r)\n",
        "\n",
        "records\n"
      ],
      "execution_count": null,
      "outputs": []
    },
    {
      "cell_type": "code",
      "metadata": {
        "id": "ZvX_FN-jHjxI"
      },
      "source": [
        "u_product=str(input(\"Enter the product id:\"))\n",
        "u_quant=int(input(\"Enter the quantity:\"))\n",
        "\n",
        "print(\"Product:\", records[u_product]['name'])\n",
        "print(\"Product:\",records[u_product]['pr'])\n",
        "print(\"Billing Amount:\",records[u_product]['pr'] * u_quant)\n",
        "\n",
        "records[u_product]['qn']=records[u_product]['qn']-u_quant"
      ],
      "execution_count": null,
      "outputs": []
    },
    {
      "cell_type": "code",
      "metadata": {
        "id": "uFBQhtseLu92"
      },
      "source": [
        "records[u_product]['qn']=records[u_product]['qn'] - u_quant\n",
        "records"
      ],
      "execution_count": null,
      "outputs": []
    },
    {
      "cell_type": "markdown",
      "metadata": {
        "id": "sz36qHsaMn0M"
      },
      "source": [
        "# Updating inventory after purchase"
      ]
    },
    {
      "cell_type": "code",
      "metadata": {
        "id": "cEKQMFeOMzNs"
      },
      "source": [
        "js=json.dumps(records)\n",
        "fd=open('record.json','w')\n",
        "fd.write(js)\n",
        "fd.close()\n",
        "\n",
        "records\n"
      ],
      "execution_count": null,
      "outputs": []
    },
    {
      "cell_type": "markdown",
      "metadata": {
        "id": "TyallaCuOd9F"
      },
      "source": [
        "# Sales Json"
      ]
    },
    {
      "cell_type": "code",
      "metadata": {
        "colab": {
          "base_uri": "https://localhost:8080/"
        },
        "id": "Me--YZcJOi_b",
        "outputId": "8c6bbe7e-cd38-4514-fba6-f707abb445ea"
      },
      "source": [
        "{'prod':u_product,'qn':u_quant,'amount':records[u_product]['pr'] * u_quant}\n"
      ],
      "execution_count": 19,
      "outputs": [
        {
          "output_type": "execute_result",
          "data": {
            "text/plain": [
              "{'amount': 50, 'prod': '1010', 'qn': 2}"
            ]
          },
          "metadata": {},
          "execution_count": 19
        }
      ]
    },
    {
      "cell_type": "code",
      "metadata": {
        "id": "U0t9bW37STlD"
      },
      "source": [
        "\n",
        "sales = {1 : {'prod' : u_product, 'qn' : u_quant, 'amount': records[u_product]['pr'] * u_quant},\n",
        "         2 : {'prod' : u_product, 'qn' : u_quant, 'amount': records[u_product]['pr'] * u_quant},\n",
        "         3 : {'prod' : u_product, 'qn' : u_quant, 'amount': records[u_product]['pr'] * u_quant}}"
      ],
      "execution_count": 24,
      "outputs": []
    },
    {
      "cell_type": "code",
      "metadata": {
        "colab": {
          "base_uri": "https://localhost:8080/",
          "height": 35
        },
        "id": "O4fx62HCS13r",
        "outputId": "2d91a104-6269-4d9a-8001-dedc68f4d64b"
      },
      "source": [
        "sale = json.dumps(sales)\n",
        "sale"
      ],
      "execution_count": 28,
      "outputs": [
        {
          "output_type": "execute_result",
          "data": {
            "application/vnd.google.colaboratory.intrinsic+json": {
              "type": "string"
            },
            "text/plain": [
              "'{\"1\": {\"prod\": \"1010\", \"qn\": 2, \"amount\": 50}, \"2\": {\"prod\": \"1010\", \"qn\": 2, \"amount\": 50}, \"3\": {\"prod\": \"1010\", \"qn\": 2, \"amount\": 50}}'"
            ]
          },
          "metadata": {},
          "execution_count": 28
        }
      ]
    },
    {
      "cell_type": "code",
      "metadata": {
        "id": "iRy9VdZMUvr7"
      },
      "source": [
        "fd=open('record.json','r')\n",
        "r=fd.read()\n",
        "fd.close()"
      ],
      "execution_count": 29,
      "outputs": []
    }
  ]
}